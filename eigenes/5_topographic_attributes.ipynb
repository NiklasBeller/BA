{
 "cells": [
  {
   "cell_type": "markdown",
   "metadata": {},
   "source": [
    "# Angepasster Code zur Verarbeitung des Copernicus DEM GLO-30 Datensatzes zu den CAMELS-DE Daten zur Topografie"
   ]
  },
  {
   "cell_type": "markdown",
   "metadata": {},
   "source": [
    "Da der direkte Webzugriff auf DEM Glo-30, wie er im Camels-Code genutzt wird, nicht mehr möglich ist, wird der Datensatz für den Bereich Deutschland manuell heruntergeladen und in den input_data Ordner gespeichert."
   ]
  },
  {
   "cell_type": "markdown",
   "metadata": {},
   "source": [
    "Der folgende Code-Block veranschaulicht das Auftreten der Null-Werte und kann zur direkten Berechnung auch übersprungen werden."
   ]
  },
  {
   "cell_type": "code",
   "execution_count": null,
   "metadata": {},
   "outputs": [],
   "source": [
    "import geopandas as gpd\n",
    "import pandas as pd\n",
    "import rasterio\n",
    "from rasterio.mask import mask\n",
    "from shapely.geometry import mapping\n",
    "import numpy as np\n",
    "import matplotlib.pyplot as plt\n",
    "\n",
    "from catchments import get_catchment_gdf\n",
    "\n",
    "ID = 1\n",
    "\n",
    "catchment_gdf = get_catchment_gdf(ID)\n",
    "\n",
    "# Load the merged Copernicus DEM raster\n",
    "print(\"Loading merged Copernicus DEM raster\")\n",
    "dem = rasterio.open(\".../input_data/dem/dem_merged.tif\")\n",
    "\n",
    "# Setting the nodata value if not defined in the raster metadata\n",
    "if dem.nodata is None:\n",
    "    nodata_value = -9999\n",
    "else:\n",
    "    nodata_value = dem.nodata\n",
    "\n",
    "print(f\"DEM bounds: {dem.bounds}\")\n",
    "print(f\"DEM CRS: {dem.crs}\")\n",
    "\n",
    "if catchment_gdf is not None:\n",
    "    # Transform the catchment GeoDataFrame to the DEM CRS\n",
    "    print(f\"Original CRS: {catchment_gdf.crs}\")\n",
    "    catchment_gdf = catchment_gdf.to_crs(dem.crs)\n",
    "    print(f\"Transformed CRS: {catchment_gdf.crs}\")\n",
    "    \n",
    "    # Extract the raster data for the catchment\n",
    "    print(f\"Extracting the raster data for catchment {catchment_gdf['name'].iloc[0]} ...\")\n",
    "    out_image, out_transform = mask(dem, [mapping(catchment_gdf.geometry.iloc[0])], crop=True)\n",
    "    print(f\"Raster shape: {out_image.shape}\")\n",
    "    print(f\"Raster Nodata value: {nodata_value}\")\n",
    "    \n",
    "    out_image = out_image.squeeze()\n",
    "    print(f\"Squeezed raster shape: {out_image.shape}\")\n",
    "    \n",
    "    # Check if the raster contains nodata values\n",
    "    valid_mask = out_image != nodata_value\n",
    "    out_image = out_image[valid_mask]\n",
    "    print(f\"Valid pixel count: {out_image.size}\")\n",
    "    \n",
    "    # Check the unique values in the catchment area\n",
    "    unique_values = set(out_image)\n",
    "    print(f\"Unique elevation values in the catchment area: {sorted(unique_values)[:10]}\")\n",
    "\n",
    "    # Plot the elevation values in the catchment area\n",
    "    plt.hist(out_image, bins=30, edgecolor='black')\n",
    "    plt.title('Elevation Values in the Catchment Area')\n",
    "    plt.xlabel('Elevation')\n",
    "    plt.ylabel('Frequency')\n",
    "    plt.grid(True)\n",
    "    plt.show()\n",
    "\n",
    "else:\n",
    "    print(\"No catchment GeoDataFrame provided.\")\n"
   ]
  },
  {
   "cell_type": "markdown",
   "metadata": {},
   "source": [
    "Es taucht eine größere Menge von Werten auf, die exakt null sind und das Ergebnis der mittleren Höhe beeinflussen. Da es sich offenbar um Fehler aus der Verarbeitung handelt, werden alle Werte, die exakt null sind, ausgeschlossen."
   ]
  },
  {
   "cell_type": "code",
   "execution_count": null,
   "metadata": {},
   "outputs": [],
   "source": [
    "import geopandas as gpd\n",
    "import pandas as pd\n",
    "import rasterio\n",
    "from rasterio.mask import mask\n",
    "from shapely.geometry import mapping\n",
    "import numpy as np\n",
    "import matplotlib.pyplot as plt\n",
    "import os\n",
    "\n",
    "from catchments import get_catchment_gdf"
   ]
  },
  {
   "cell_type": "markdown",
   "metadata": {},
   "source": [
    "Festlegen der Gebiets-ID"
   ]
  },
  {
   "cell_type": "code",
   "execution_count": null,
   "metadata": {},
   "outputs": [],
   "source": [
    "ID = 1\n",
    "\n",
    "catchment_gdf = get_catchment_gdf(ID)"
   ]
  },
  {
   "cell_type": "markdown",
   "metadata": {},
   "source": [
    "Laden und Verarbeiten der DEM-Daten"
   ]
  },
  {
   "cell_type": "code",
   "execution_count": null,
   "metadata": {},
   "outputs": [],
   "source": [
    "# Load the merged Copernicus DEM raster\n",
    "print(\"Loading merged Copernicus DEM raster\")\n",
    "dem = rasterio.open(\".../input_data/dem/dem_merged.tif\")\n",
    "\n",
    "# Setting the nodata value if not defined in the raster metadata\n",
    "if dem.nodata is None:\n",
    "    nodata_value = -9999\n",
    "else:\n",
    "    nodata_value = dem.nodata\n",
    "\n",
    "print(f\"DEM bounds: {dem.bounds}\")\n",
    "print(f\"DEM CRS: {dem.crs}\")\n",
    "\n",
    "if catchment_gdf is not None:\n",
    "    # Transform the catchment GeoDataFrame to the DEM CRS\n",
    "    print(f\"Original CRS: {catchment_gdf.crs}\")\n",
    "    catchment_gdf = catchment_gdf.to_crs(dem.crs)\n",
    "    print(f\"Transformed CRS: {catchment_gdf.crs}\")\n",
    "    \n",
    "    # Extract the raster data for the catchment\n",
    "    print(f\"Extracting the raster data for catchment {catchment_gdf['name'].iloc[0]} ...\")\n",
    "    out_image, out_transform = mask(dem, [mapping(catchment_gdf.geometry.iloc[0])], crop=True)\n",
    "    print(f\"Raster shape: {out_image.shape}\")\n",
    "    print(f\"Raster Nodata value: {nodata_value}\")\n",
    "    \n",
    "    out_image = out_image.squeeze()\n",
    "    print(f\"Squeezed raster shape: {out_image.shape}\")\n",
    "    \n",
    "    # Check if the raster contains nodata values\n",
    "    valid_mask = (out_image != nodata_value) & (out_image != 0)\n",
    "    out_image = out_image[valid_mask]\n",
    "    print(f\"Valid pixel count: {out_image.size}\")\n",
    "    \n",
    "    # Check the unique values in the catchment area\n",
    "    unique_values = set(out_image)\n",
    "    print(f\"Unique elevation values in the catchment area: {sorted(unique_values)[:10]}\")\n",
    "\n",
    "    # Plot the elevation values in the catchment area\n",
    "    plt.hist(out_image, bins=30, edgecolor='black')\n",
    "    plt.title('Elevation Values in the Catchment Area')\n",
    "    plt.xlabel('Elevation')\n",
    "    plt.ylabel('Frequency')\n",
    "    plt.grid(True)\n",
    "    plt.show()\n",
    "\n",
    "    # Calculate the mean elevation value in the catchment area\n",
    "    catchment_stats = {\n",
    "        'gauge_id': ID,\n",
    "        'elev_mean': np.mean(out_image)\n",
    "    }\n",
    "    print(f\"Calculated stats: {catchment_stats}\")\n",
    "    \n",
    "    catchment_stats_df = pd.DataFrame([catchment_stats])\n",
    "\n",
    "    #Save the extracted data to a CSV file\n",
    "    print(\"Saving the extracted data\")\n",
    "    \n",
    "    file_path = \".../output_data/camels_de/CAMELS_DE_topographic_attributes.csv\"\n",
    "    if not os.path.exists(file_path):\n",
    "        catchment_stats_df.to_csv(file_path, index=False)\n",
    "    else:\n",
    "        catchment_stats_df.to_csv(file_path, mode='a', header=False, index=False)\n",
    "\n",
    "else:\n",
    "    print(\"No catchment GeoDataFrame provided.\")"
   ]
  },
  {
   "cell_type": "markdown",
   "metadata": {},
   "source": [
    "### Plot der Höhendaten mit einem Overlay des akuellen Einzugsgebiets"
   ]
  },
  {
   "cell_type": "markdown",
   "metadata": {},
   "source": [
    "Dieser Block dient zu Veranschaulichung und Kontrolle. Da er viel Rechenzeit beansprucht, sollte er für eine schnelle Berechnung übersprungen werden, da er nicht zur Berechnung der Werte dient"
   ]
  },
  {
   "cell_type": "code",
   "execution_count": null,
   "metadata": {},
   "outputs": [],
   "source": [
    "import geopandas as gpd\n",
    "import matplotlib.pyplot as plt\n",
    "import rasterio\n",
    "from rasterio.plot import show\n",
    "from shapely.geometry import mapping\n",
    "\n",
    "from catchments import get_catchment_gdf\n",
    "\n",
    "ID = 1\n",
    "\n",
    "catchment_gdf = get_catchment_gdf(ID)\n",
    "\n",
    "# Load the merged Copernicus DEM raster\n",
    "print(\"Loading merged Copernicus DEM raster\")\n",
    "dem = rasterio.open(\".../input_data/dem/dem_merged.tif\")\n",
    "\n",
    "if catchment_gdf is not None:\n",
    "    #Transform the catchment GeoDataFrame to the DEM CRS\n",
    "    catchment_gdf = catchment_gdf.to_crs(dem.crs)\n",
    "    \n",
    "    # Plot the catchment overlay on the DEM\n",
    "    fig, ax = plt.subplots(figsize=(10, 10))\n",
    "    show(dem, ax=ax, title=\"Catchment Overlay on DEM\")\n",
    "    catchment_gdf.plot(ax=ax, facecolor='none', edgecolor='red')\n",
    "    plt.show()\n",
    "else:\n",
    "    print(\"No catchment GeoDataFrame provided.\")\n"
   ]
  }
 ],
 "metadata": {
  "kernelspec": {
   "display_name": "venv",
   "language": "python",
   "name": "python3"
  },
  "language_info": {
   "codemirror_mode": {
    "name": "ipython",
    "version": 3
   },
   "file_extension": ".py",
   "mimetype": "text/x-python",
   "name": "python",
   "nbconvert_exporter": "python",
   "pygments_lexer": "ipython3",
   "version": "3.12.9"
  }
 },
 "nbformat": 4,
 "nbformat_minor": 2
}
