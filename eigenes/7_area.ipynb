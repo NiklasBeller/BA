{
 "cells": [
  {
   "cell_type": "markdown",
   "metadata": {},
   "source": [
    "# Notebook, um Fläche der Einzugsgebiete aus den Shapefiles abzuleiten"
   ]
  },
  {
   "cell_type": "code",
   "execution_count": null,
   "metadata": {},
   "outputs": [],
   "source": [
    "import geopandas as gpd\n",
    "import os\n",
    "from catchments import get_catchment_gdf\n",
    "import pandas as pd"
   ]
  },
  {
   "cell_type": "markdown",
   "metadata": {},
   "source": [
    "Festlegen der Gebiets-ID"
   ]
  },
  {
   "cell_type": "code",
   "execution_count": null,
   "metadata": {},
   "outputs": [],
   "source": [
    "ID = 3\n",
    "\n",
    "gdf = get_catchment_gdf(ID)"
   ]
  },
  {
   "cell_type": "markdown",
   "metadata": {},
   "source": [
    "Flächenberechnung"
   ]
  },
  {
   "cell_type": "code",
   "execution_count": null,
   "metadata": {},
   "outputs": [],
   "source": [
    "# Check the CRS of the GeoDataFrame\n",
    "print(gdf.crs)\n",
    "\n",
    "# If the CRS is not EPSG:3035, reproject the GeoDataFrame\n",
    "if gdf.crs.to_string() == 'EPSG:3035':\n",
    "    gdf['area_m2'] = gdf.geometry.area\n",
    "else:\n",
    "    gdf = gdf.to_crs(epsg=3035)\n",
    "    gdf['area_m2'] = gdf.geometry.area\n",
    "\n",
    "# Calculate the area in square kilometers\n",
    "gdf['area_km2'] = gdf['area_m2'] / 1_000_000\n",
    "\n",
    "# Print the area in square kilometers\n",
    "print(gdf['area_km2'])\n"
   ]
  },
  {
   "cell_type": "markdown",
   "metadata": {},
   "source": [
    "Abspeichern der Ergebnisse"
   ]
  },
  {
   "cell_type": "code",
   "execution_count": null,
   "metadata": {},
   "outputs": [],
   "source": [
    "print(\"Saving the extracted area to a CSV file\")\n",
    "\n",
    "file_path = \".../output_data/camels_de/CAMELS_DE_area_attributes.csv\"\n",
    "\n",
    "area_km2 = gdf['area_km2'].iloc[0].round(2)\n",
    "df = pd.DataFrame({ \n",
    "    'gauge_id': [ID], \n",
    "    'area': area_km2 \n",
    "    })\n",
    "\n",
    "if not os.path.exists(file_path):\n",
    "    df.to_csv(file_path, index=False)\n",
    "else:\n",
    "    df.to_csv(file_path, mode='a', header=False, index=False)"
   ]
  }
 ],
 "metadata": {
  "kernelspec": {
   "display_name": "venv",
   "language": "python",
   "name": "python3"
  },
  "language_info": {
   "codemirror_mode": {
    "name": "ipython",
    "version": 3
   },
   "file_extension": ".py",
   "mimetype": "text/x-python",
   "name": "python",
   "nbconvert_exporter": "python",
   "pygments_lexer": "ipython3",
   "version": "3.12.9"
  }
 },
 "nbformat": 4,
 "nbformat_minor": 2
}
