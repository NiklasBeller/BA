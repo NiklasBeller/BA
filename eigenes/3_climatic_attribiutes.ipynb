{
 "cells": [
  {
   "cell_type": "markdown",
   "metadata": {},
   "source": [
    "## Integration der Berechnung der klimatischen Kenngrößen"
   ]
  },
  {
   "cell_type": "code",
   "execution_count": null,
   "metadata": {},
   "outputs": [],
   "source": [
    "from glob import glob\n",
    "import pandas as pd\n",
    "import numpy as np\n",
    "from scipy.optimize import curve_fit\n",
    "import os"
   ]
  },
  {
   "cell_type": "markdown",
   "metadata": {},
   "source": [
    "Festlegung der Gebiets-ID"
   ]
  },
  {
   "cell_type": "code",
   "execution_count": null,
   "metadata": {},
   "outputs": [],
   "source": [
    "ID = 1\n",
    "\n",
    "# dataframe to store results\n",
    "df_results = pd.DataFrame()"
   ]
  },
  {
   "cell_type": "markdown",
   "metadata": {},
   "source": [
    "p_mean"
   ]
  },
  {
   "cell_type": "code",
   "execution_count": null,
   "metadata": {},
   "outputs": [],
   "source": [
    "# read camels de hydromet timeseries data\n",
    "df = pd.read_csv(f\"../output_data/camels_de/timeseries/CAMELS_DE_hydromet_timeseries_{ID}.csv\")\n",
    "\n",
    "# calculate p_mean from precipitation_mean\n",
    "p_mean = df[\"precipitation_mean\"].mean()\n",
    "\n",
    "# add to results\n",
    "df_results.loc[ID, \"p_mean\"] = round(p_mean, 2)\n",
    "\n",
    "df_results"
   ]
  },
  {
   "cell_type": "markdown",
   "metadata": {},
   "source": [
    "p_seasonality"
   ]
  },
  {
   "cell_type": "code",
   "execution_count": null,
   "metadata": {},
   "outputs": [],
   "source": [
    "# Define the sine function to fit\n",
    "def sine_curve(day_of_year, mean_value, amplitude, phase_shift):\n",
    "    return mean_value * (1 + amplitude * np.sin(2 * np.pi * (day_of_year - phase_shift) / 365.25))"
   ]
  },
  {
   "cell_type": "code",
   "execution_count": null,
   "metadata": {},
   "outputs": [],
   "source": [
    "# convert date to datetime\n",
    "df[\"date\"] = pd.to_datetime(df[\"date\"])\n",
    "\n",
    "# Create a time variable that represents the day of the year\n",
    "df[\"day_of_year\"] = df[\"date\"].dt.dayofyear\n",
    "\n",
    "# Get the mean precipitation and temperature\n",
    "average_precipitation = df[\"precipitation_mean\"].mean()\n",
    "average_temperature = df[\"temperature_mean\"].mean()\n",
    "\n",
    "# Get the first guess for the phase shift\n",
    "initial_phase_shift_guess_prec = 90 - df[\"precipitation_mean\"].idxmax() * 30\n",
    "initial_phase_shift_guess_prec = initial_phase_shift_guess_prec % 360\n",
    "\n",
    "initial_phase_shift_guess_temp = -90\n",
    "\n",
    "# Fit a sine curve to the precipitation and temperature data\n",
    "optimized_parameters_prec, parameter_covariances_prec = curve_fit(sine_curve, df[\"day_of_year\"], df[\"precipitation_mean\"], p0=[average_precipitation, 0.4, initial_phase_shift_guess_prec])\n",
    "optimized_parameters_temp, parameter_covariances_temp = curve_fit(sine_curve, df[\"day_of_year\"], df[\"temperature_mean\"], p0=[average_temperature, 5, initial_phase_shift_guess_temp])\n",
    "\n",
    "# The phase shifts are optimized_parameters[2]\n",
    "precipitation_seasonality = optimized_parameters_prec[2]\n",
    "temperature_seasonality = optimized_parameters_temp[2]\n",
    "\n",
    "# The amplitudes are optimized_parameters[1]\n",
    "amplitude_prec = optimized_parameters_prec[1]\n",
    "amplitude_temp = optimized_parameters_temp[1]\n",
    "\n",
    "# Calculate p_seasonality\n",
    "p_seasonality = amplitude_prec * np.sign(amplitude_temp) * np.cos(2 * np.pi * (precipitation_seasonality - temperature_seasonality) / 365.25)\n",
    "\n",
    "# Add to results\n",
    "df_results.loc[ID, \"p_seasonality\"] = round(p_seasonality, 2)\n",
    "\n",
    "df_results"
   ]
  },
  {
   "cell_type": "markdown",
   "metadata": {},
   "source": [
    "frac_snow"
   ]
  },
  {
   "cell_type": "code",
   "execution_count": null,
   "metadata": {},
   "outputs": [],
   "source": [
    "# fraction of precipitation falling as snow (for days colder than 0°C)\n",
    "sum_precip_snow = df[df[\"temperature_mean\"] < 0][\"precipitation_mean\"].sum()\n",
    "sum_precip_water = df[df[\"temperature_mean\"] >= 0][\"precipitation_mean\"].sum()\n",
    "frac_snow = sum_precip_snow / (sum_precip_snow + sum_precip_water)\n",
    "\n",
    "# add to results\n",
    "df_results.loc[ID, \"frac_snow\"] = round(frac_snow, 2)\n",
    "\n",
    "df_results"
   ]
  },
  {
   "cell_type": "markdown",
   "metadata": {},
   "source": [
    "high_prec_freq"
   ]
  },
  {
   "cell_type": "code",
   "execution_count": null,
   "metadata": {},
   "outputs": [],
   "source": [
    "# Average precipitation\n",
    "p_mean = df[\"precipitation_mean\"].mean()\n",
    "\n",
    "# Number of days with precipitation >= 5 times the average precipitation\n",
    "n_days_high_freq = len(df[df[\"precipitation_mean\"] >= 5 * p_mean]) / len(df) * 365.25\n",
    "\n",
    " # add to results\n",
    "df_results.loc[ID, \"high_prec_freq\"] = round(n_days_high_freq, 2)\n",
    "\n",
    "df_results.head()"
   ]
  },
  {
   "cell_type": "markdown",
   "metadata": {},
   "source": [
    "high_prec_dur"
   ]
  },
  {
   "cell_type": "code",
   "execution_count": null,
   "metadata": {},
   "outputs": [],
   "source": [
    "# initialize variables to keep track of high precipitation event\n",
    "high_precip_streaks = []\n",
    "current_streak = 0\n",
    "\n",
    "\n",
    "# mean precipitation\n",
    "p_mean = df[\"precipitation_mean\"].mean()\n",
    "\n",
    "# iterate over the DataFrame's rows\n",
    "for precip in df[\"precipitation_mean\"]:\n",
    "    if precip >= 5 * p_mean:\n",
    "        # if the day's precipitation is higher 5 times mean precipitation, increment the current streak\n",
    "        current_streak += 1\n",
    "    elif current_streak > 0:\n",
    "        # if the day's precipitation is not high and there's a current streak, add it to the list of all streaks and reset it\n",
    "        high_precip_streaks.append(current_streak)\n",
    "        current_streak = 0\n",
    "\n",
    "# if there's a current streak at the end of the DataFrame, add it to the list of all streaks\n",
    "if current_streak > 0:\n",
    "    high_precip_streaks.append(current_streak)\n",
    "\n",
    "# calculate the average streak length for the station\n",
    "average_streak_length = sum(high_precip_streaks) / len(high_precip_streaks) if high_precip_streaks else 0\n",
    "\n",
    "# add to results\n",
    "df_results.loc[ID, \"high_prec_dur\"] = round(average_streak_length, 2)\n",
    "\n",
    "df_results.head()"
   ]
  },
  {
   "cell_type": "markdown",
   "metadata": {},
   "source": [
    "low_prec_freq"
   ]
  },
  {
   "cell_type": "code",
   "execution_count": null,
   "metadata": {},
   "outputs": [],
   "source": [
    " # number of days < 1 mm of precipitation\n",
    "n_days_low_freq = len(df[df[\"precipitation_mean\"] < 1]) / len(df) * 365.25\n",
    "\n",
    "# add to results\n",
    "df_results.loc[ID, \"low_prec_freq\"] = round(n_days_low_freq, 2)\n",
    "\n",
    "df_results.head()"
   ]
  },
  {
   "cell_type": "markdown",
   "metadata": {},
   "source": [
    "low_prec_dur"
   ]
  },
  {
   "cell_type": "code",
   "execution_count": null,
   "metadata": {},
   "outputs": [],
   "source": [
    "# initialize variables to keep track of high precipitation event\n",
    "low_precip_streaks = []\n",
    "current_streak = 0\n",
    "\n",
    "# iterate over the DataFrame's rows\n",
    "for precip in df[\"precipitation_mean\"]:\n",
    "    if precip < 1:\n",
    "        # if the day's precipitation is higher 5 times mean precipitation, increment the current streak\n",
    "        current_streak += 1\n",
    "    elif current_streak > 0:\n",
    "        # if the day's precipitation is not high and there's a current streak, add it to the list of all streaks and reset it\n",
    "        low_precip_streaks.append(current_streak)\n",
    "        current_streak = 0\n",
    "\n",
    "# if there's a current streak at the end of the DataFrame, add it to the list of all streaks\n",
    "if current_streak > 0:\n",
    "    low_precip_streaks.append(current_streak)\n",
    "\n",
    "# calculate the average streak length for the station\n",
    "average_streak_length = sum(low_precip_streaks) / len(low_precip_streaks) if low_precip_streaks else 0\n",
    "\n",
    "# add to results\n",
    "df_results.loc[ID, \"low_prec_dur\"] = round(average_streak_length, 2)\n",
    "\n",
    "df_results.head()\n",
    "\n",
    "df_results"
   ]
  },
  {
   "cell_type": "markdown",
   "metadata": {},
   "source": [
    "Ergebnisse speichern"
   ]
  },
  {
   "cell_type": "code",
   "execution_count": null,
   "metadata": {},
   "outputs": [],
   "source": [
    "# file path to save the results\n",
    "data_file = \"../output_data/camels_de/CAMELS_DE_climatic_attributes.csv\"\n",
    "\n",
    "# Check if the file already exists\n",
    "if os.path.exists(data_file):\n",
    "    df_existing = pd.read_csv(data_file, index_col=\"gauge_id\")\n",
    "    df_combined = pd.concat([df_existing, df_results])\n",
    "else:\n",
    "    df_combined = df_results\n",
    "\n",
    "# Save the results\n",
    "df_combined.to_csv(data_file, index_label=\"gauge_id\")"
   ]
  }
 ],
 "metadata": {
  "kernelspec": {
   "display_name": "venv",
   "language": "python",
   "name": "python3"
  },
  "language_info": {
   "codemirror_mode": {
    "name": "ipython",
    "version": 3
   },
   "file_extension": ".py",
   "mimetype": "text/x-python",
   "name": "python",
   "nbconvert_exporter": "python",
   "pygments_lexer": "ipython3",
   "version": "3.12.9"
  }
 },
 "nbformat": 4,
 "nbformat_minor": 2
}
