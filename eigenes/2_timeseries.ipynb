{
 "cells": [
  {
   "cell_type": "markdown",
   "metadata": {},
   "source": [
    "## Integration der Nachverarbeitung der HYRAS-DATEN"
   ]
  },
  {
   "cell_type": "code",
   "execution_count": null,
   "metadata": {},
   "outputs": [],
   "source": [
    "import os\n",
    "import pandas as pd"
   ]
  },
  {
   "cell_type": "markdown",
   "metadata": {},
   "source": [
    "Festlegen der Gebiets-ID"
   ]
  },
  {
   "cell_type": "code",
   "execution_count": null,
   "metadata": {},
   "outputs": [],
   "source": [
    "ID = 1\n",
    "\n",
    "# create folder camels_de\n",
    "os.makedirs(\"../output_data/camels_de\", exist_ok=True)\n",
    "\n",
    "# create subfolder timeseries\n",
    "os.makedirs(\"../output_data/camels_de/timeseries\", exist_ok=True)"
   ]
  },
  {
   "cell_type": "markdown",
   "metadata": {},
   "source": [
    "Festlegen der zu verarbeitenden Variablen"
   ]
  },
  {
   "cell_type": "code",
   "execution_count": null,
   "metadata": {},
   "outputs": [],
   "source": [
    "hyras_variables = [\"Precipitation\", \"Humidity\", \"RadiationGlobal\", \"TemperatureMean\", \"TemperatureMin\", \"TemperatureMax\"]\n",
    "df_mt = pd.DataFrame()\n",
    "\n",
    "for variable in hyras_variables:\n",
    "        df_var = pd.read_csv(f\"../output_data/{ID}/data/{ID}_{variable}.csv\")  # read the data\n",
    "        df_var.rename(columns={df_var.columns[0]: \"date\"}, inplace=True)\n",
    "        df_var[\"date\"] = pd.to_datetime(df_var[\"date\"]).dt.date\n",
    "        df_var[\"date\"] = pd.to_datetime(df_var[\"date\"])\n",
    "\n",
    "        if df_mt.empty:\n",
    "            df_mt = df_var\n",
    "        else:\n",
    "            df_mt = pd.merge(df_mt, df_var, on=\"date\", how=\"right\")\n",
    "\n",
    "df_mt = df_mt.round(2)\n",
    "\n",
    "# Save the merged dataframe to a csv file\n",
    "df_mt.to_csv(f\"../output_data/camels_de/timeseries/CAMELS_DE_hydromet_timeseries_{ID}.csv\", index=False)\n",
    "\n",
    "print(\"HYRAS-Daten erfolgreich verarbeitet und gespeichert!\")"
   ]
  },
  {
   "cell_type": "markdown",
   "metadata": {},
   "source": [
    "Umbennenung der Spalten"
   ]
  },
  {
   "cell_type": "code",
   "execution_count": null,
   "metadata": {},
   "outputs": [],
   "source": [
    "\n",
    "# define the specific data file\n",
    "data_file = f\"../output_data/camels_de/timeseries/CAMELS_DE_hydromet_timeseries_{ID}.csv\"\n",
    "\n",
    "# load data\n",
    "df = pd.read_csv(data_file, index_col=0)\n",
    "\n",
    "# get columns\n",
    "columns = df.columns\n",
    "\n",
    "# rename columns\n",
    "new_colnames = [col.replace(\"hurs\", \"humidity\") for col in columns]\n",
    "new_colnames = [col.replace(\"rsds\", \"radiation_global\") for col in new_colnames]\n",
    "new_colnames = [col.replace(\"tasmin\", \"temperature_min\") for col in new_colnames]\n",
    "new_colnames = [col.replace(\"tasmax\", \"temperature_max\") for col in new_colnames]\n",
    "new_colnames = [col.replace(\"tas\", \"temperature_mean\") for col in new_colnames]\n",
    "new_colnames = [col.replace(\"pr\", \"precipitation\") for col in new_colnames]\n",
    "\n",
    "# set new column names\n",
    "df.columns = new_colnames\n",
    "\n",
    "# further rename specific columns if they exist\n",
    "df.rename(columns={\n",
    "    \"temperature_mean_mean\": \"temperature_mean\",\n",
    "    \"temperature_min_mean\": \"temperature_min\",\n",
    "    \"temperature_max_mean\": \"temperature_max\"\n",
    "}, inplace=True)\n",
    "\n",
    "# confirm changes\n",
    "print(df.columns)"
   ]
  },
  {
   "cell_type": "markdown",
   "metadata": {},
   "source": [
    "Es existieren noch Spalten, die im Datensatz nicht enthalten sein sollen, diese können noch aussortiert werden:"
   ]
  },
  {
   "cell_type": "code",
   "execution_count": null,
   "metadata": {},
   "outputs": [],
   "source": [
    "\n",
    "# define the columns to drop\n",
    "columns_to_drop = [\"temperature_mean_stdev\", \"temperature_mean_min\", \"temperature_mean_max\", \"temperature_min_stdev\", \"temperature_min_min\", \"temperature_min_max\",\"temperature_max_stdev\", \"temperature_max_min\", \"temperature_max_max\"]\n",
    "\n",
    "# drop columns\n",
    "df.drop(columns=columns_to_drop, inplace=True)\n",
    "\n",
    "# Dummy Spalte hinzufügen für die Zielvariable\n",
    "df[\"discharge_spec_obs\"] = 0\n",
    "\n",
    "# save data\n",
    "df.to_csv(data_file, index=True)"
   ]
  },
  {
   "cell_type": "markdown",
   "metadata": {},
   "source": [
    "Nun liegen alle Spalten außer discharge_vol_ob, discharge_spec_obs und water_level_obs, die nicht benötigt werden, da sie ja simuliert werden sollen, in der korrekten Bezeichung vor."
   ]
  }
 ],
 "metadata": {
  "kernelspec": {
   "display_name": "venv",
   "language": "python",
   "name": "python3"
  },
  "language_info": {
   "codemirror_mode": {
    "name": "ipython",
    "version": 3
   },
   "file_extension": ".py",
   "mimetype": "text/x-python",
   "name": "python",
   "nbconvert_exporter": "python",
   "pygments_lexer": "ipython3",
   "version": "3.12.9"
  }
 },
 "nbformat": 4,
 "nbformat_minor": 2
}
