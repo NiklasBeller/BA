{
 "cells": [
  {
   "cell_type": "markdown",
   "metadata": {},
   "source": [
    "# Angepasster Code zur Verarbeitung des Copernicus Corine Landcover Datensatzes zu den CAMELS-DE Daten zur Landnutzung"
   ]
  },
  {
   "cell_type": "code",
   "execution_count": null,
   "metadata": {},
   "outputs": [],
   "source": [
    "import rasterio\n",
    "import geopandas as gpd\n",
    "import pandas as pd\n",
    "from rasterstats import zonal_stats\n",
    "from simpledbf import Dbf5\n",
    "import numpy as np\n",
    "from catchments import get_catchment_gdf\n",
    "import os"
   ]
  },
  {
   "cell_type": "markdown",
   "metadata": {},
   "source": [
    "Festlegen der Gebiets-ID"
   ]
  },
  {
   "cell_type": "code",
   "execution_count": null,
   "metadata": {},
   "outputs": [],
   "source": [
    "ID = 3"
   ]
  },
  {
   "cell_type": "markdown",
   "metadata": {},
   "source": [
    "Einladen und Verarbeiten der Daten"
   ]
  },
  {
   "cell_type": "code",
   "execution_count": null,
   "metadata": {},
   "outputs": [],
   "source": [
    "# Loading the data\n",
    "print(\"Loading CORINE raster\")\n",
    "corine = rasterio.open(\".../input_data/U2018_CLC2018_V2020_20u1.tif\")\n",
    "\n",
    "print(\"Loading CORINE classes\")\n",
    "dbf = Dbf5(\".../input_data/U2018_CLC2018_V2020_20u1.tif.vat.dbf\")\n",
    "corine_classes = dbf.to_dataframe()"
   ]
  },
  {
   "cell_type": "code",
   "execution_count": null,
   "metadata": {},
   "outputs": [],
   "source": [
    "# Mapping the CORINE classes to the main classes(1-5)\n",
    "corine_classes['mainclass'] = corine_classes['CODE_18'].astype(str).str[:1].astype(int)\n",
    "corine_mapping = dict(zip(corine_classes['Value'], corine_classes['mainclass']))\n",
    "\n",
    "print(corine_mapping)\n",
    "\n",
    "data = corine.read(1)\n",
    "unique_values = pd.unique(data.flatten())\n",
    "print(unique_values)"
   ]
  },
  {
   "cell_type": "code",
   "execution_count": null,
   "metadata": {},
   "outputs": [],
   "source": [
    "# Reclassifying the raster\n",
    "def reclassify_raster(raster, mapping, nodata_value=-128):\n",
    "    data = raster.read(1)\n",
    "    reclassified_data = np.full(data.shape, nodata_value, dtype=np.float32)\n",
    "    unique_values = np.unique(data)\n",
    "    \n",
    "    for value in unique_values:\n",
    "        if value in mapping:\n",
    "            reclassified_data[data == value] = mapping[value]\n",
    "\n",
    "    reclassified_data[data == nodata_value] = np.nan\n",
    "    return reclassified_data\n",
    "\n",
    "print(\"Reclassifying the raster to main classes ...\")\n",
    "reclassified_data = reclassify_raster(corine, corine_mapping)\n",
    "print(reclassified_data)\n",
    "\n",
    "catchments = get_catchment_gdf(ID)\n",
    "catchments = catchments.to_crs(corine.crs)"
   ]
  },
  {
   "cell_type": "code",
   "execution_count": null,
   "metadata": {},
   "outputs": [],
   "source": [
    "# Extracting the raster data\n",
    "print(\"Extracting the raster data...\")\n",
    "stats = zonal_stats(catchments, reclassified_data, affine=corine.transform, categorical=True)"
   ]
  },
  {
   "cell_type": "code",
   "execution_count": null,
   "metadata": {},
   "outputs": [],
   "source": [
    "# Convert the stats to a DataFrame and calculate the percentage of each class\n",
    "stats_df = pd.DataFrame(stats).fillna(0)\n",
    "stats_df = stats_df.div(stats_df.sum(axis=1), axis=0) * 100\n",
    "stats_df = stats_df.round(2)\n",
    "\n",
    "# Check the columns in catchments\n",
    "print(catchments.columns)\n",
    "\n",
    "# Check the columns in stats_df\n",
    "print(\"Columns in stats_df:\", stats_df.columns)\n",
    "print(\"Number of columns in stats_df:\", len(stats_df.columns))\n",
    "\n",
    "# Define the main class names\n",
    "main_class_names = [\"artificial_surfaces\", \"agricultural_areas\", \"forests_and_seminatural_areas\", \"wetlands\", \"water_bodies\"]\n",
    "stats_df.columns = main_class_names[:len(stats_df.columns)]\n",
    "\n",
    "# Add the gauge_id to the stats_df\n",
    "stats_df.insert(0, 'gauge_id', ID)\n",
    "\n",
    "# Make sure that all main class names are in the stats_df even if there are no values for them\n",
    "for col in main_class_names:\n",
    "    if col not in stats_df.columns: \n",
    "        stats_df[col] = 0  \n",
    "\n",
    "# Edit the column names to include the percentage\n",
    "stats_df.columns = ['gauge_id'] + [f\"{col}_perc\" for col in main_class_names[:len(stats_df.columns)-1]]"
   ]
  },
  {
   "cell_type": "markdown",
   "metadata": {},
   "source": [
    "Abspeichern der Daten"
   ]
  },
  {
   "cell_type": "code",
   "execution_count": null,
   "metadata": {},
   "outputs": [],
   "source": [
    "# Save the results\n",
    "print(\"Saving the extracted data\")\n",
    "file_path = \".../output_data/camels_de/CAMELS_DE_landcover_attributes.csv\"\n",
    "if not os.path.exists(file_path):\n",
    "    stats_df.to_csv(file_path, index=False)\n",
    "else:\n",
    "    stats_df.to_csv(file_path, mode='a', header=False, index=False)"
   ]
  },
  {
   "cell_type": "markdown",
   "metadata": {},
   "source": [
    "Leere Zellen werden mit o.00 gefüllt, um gültige Werte zu enthalten"
   ]
  },
  {
   "cell_type": "code",
   "execution_count": null,
   "metadata": {},
   "outputs": [],
   "source": [
    "df = pd.read_csv(file_path)\n",
    "\n",
    "# Fill all empty cells with 0.00\n",
    "df = df.fillna(0.00)\n",
    "\n",
    "# Save the filled data back to the file\n",
    "df.to_csv(file_path, index=False)\n",
    "\n",
    "print(\"Empty cells filled and data saved.\")"
   ]
  }
 ],
 "metadata": {
  "kernelspec": {
   "display_name": "venv",
   "language": "python",
   "name": "python3"
  },
  "language_info": {
   "codemirror_mode": {
    "name": "ipython",
    "version": 3
   },
   "file_extension": ".py",
   "mimetype": "text/x-python",
   "name": "python",
   "nbconvert_exporter": "python",
   "pygments_lexer": "ipython3",
   "version": "3.12.9"
  }
 },
 "nbformat": 4,
 "nbformat_minor": 2
}
