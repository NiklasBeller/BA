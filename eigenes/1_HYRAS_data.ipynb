{
 "cells": [
  {
   "cell_type": "markdown",
   "metadata": {},
   "source": [
    "## Verarbeitung der HYRAS-Daten"
   ]
  },
  {
   "cell_type": "code",
   "execution_count": null,
   "metadata": {},
   "outputs": [],
   "source": [
    "import os\n",
    "import time\n",
    "import json\n",
    "\n",
    "import pandas as pd\n",
    "import xarray as xr\n",
    "import rioxarray\n",
    "import matplotlib.pyplot as plt\n",
    "import matplotlib.gridspec as gridspec\n",
    "import dask\n",
    "import contextily as ctx"
   ]
  },
  {
   "cell_type": "markdown",
   "metadata": {},
   "source": [
    "Festlegen der Gebiets-ID und der zu verarbeitenden Variable"
   ]
  },
  {
   "cell_type": "code",
   "execution_count": null,
   "metadata": {},
   "outputs": [],
   "source": [
    "ID = 1\n",
    "HYRAS_VARIABLE = \"TemperatureMean\" \n",
    "INPUT_PATH = \"../input_data\"\n",
    "RESULT_PATH = \"../output_data\""
   ]
  },
  {
   "cell_type": "code",
   "execution_count": null,
   "metadata": {},
   "outputs": [],
   "source": [
    "if not os.path.exists(f\"{RESULT_PATH}/{ID}\"):\n",
    "    os.makedirs(f\"{RESULT_PATH}/{ID}\")"
   ]
  },
  {
   "cell_type": "code",
   "execution_count": null,
   "metadata": {},
   "outputs": [],
   "source": [
    "var_mapping = {\n",
    "    \"Humidity\": dict(variable_name = \"hurs\", datapath = f\"{INPUT_PATH}/hyras/Humidity/hurs_hyras_5_1951_2020_v5-0_de.nc\"),\n",
    "    \"Precipitation\": dict(variable_name = \"pr\", datapath = f\"{INPUT_PATH}/hyras/Precipitation/pr_hyras_1_1931_2020_v5-0_de.nc\"),\n",
    "    \"RadiationGlobal\": dict(variable_name = \"rsds\", datapath = f\"{INPUT_PATH}/hyras/RadiationGlobal/*.nc\"),\n",
    "    \"TemperatureMax\": dict(variable_name = \"tasmax\", datapath = f\"{INPUT_PATH}/hyras/TemperatureMax/tasmax_hyras_5_1951_2020_v5-0_de.nc\"),\n",
    "    \"TemperatureMin\": dict(variable_name = \"tasmin\", datapath = f\"{INPUT_PATH}/hyras/TemperatureMin/tasmin_hyras_5_1951_2020_v5-0_de.nc\"),\n",
    "    \"TemperatureMean\": dict(variable_name = \"tas\", datapath = f\"{INPUT_PATH}/hyras/TemperatureMean/tas_hyras_5_1951_2020_v5-0_de.nc\"),\n",
    "}\n",
    "\n",
    "# get the variable and data_path\n",
    "variable = var_mapping[HYRAS_VARIABLE][\"variable_name\"]\n",
    "data_path = var_mapping[HYRAS_VARIABLE][\"datapath\"]\n",
    "\n",
    "# empty list to store warnings\n",
    "warnings = []"
   ]
  },
  {
   "cell_type": "markdown",
   "metadata": {},
   "source": [
    "Import des Einzugsggebiets aus catchments.py"
   ]
  },
  {
   "cell_type": "code",
   "execution_count": null,
   "metadata": {},
   "outputs": [],
   "source": [
    "from catchments import get_catchment_gdf\n",
    "\n",
    "catchment = get_catchment_gdf(ID).to_crs(epsg=3034)\n",
    "\n",
    "print(catchment)\n",
    "print(catchment.geometry)"
   ]
  },
  {
   "cell_type": "markdown",
   "metadata": {},
   "source": [
    "Verarbeitung der Daten"
   ]
  },
  {
   "cell_type": "code",
   "execution_count": null,
   "metadata": {},
   "outputs": [],
   "source": [
    "# open hyras data, chunks=\"auto\" with unify_chunks() produced the fastest results\n",
    "ds = xr.open_mfdataset(data_path, combine=\"by_coords\", chunks=\"auto\").unify_chunks()\n",
    "\n",
    "# if variable is Precipitation, select from 1950\n",
    "if HYRAS_VARIABLE == 'Precipitation':\n",
    "    ds = ds.sel(time=slice('1951', None))\n",
    "\n",
    "# need to set the crs (EPSG:3034)\n",
    "ds.rio.write_crs(\"EPSG:3034\", inplace=True)\n",
    "\n",
    "# drop variable time_bnds, x_bnds_clipped_clipped_clipped, y_bnds and coordinate crs_HYRAS (makes problems with xarray)\n",
    "ds = ds.drop_vars(\"time_bnds\")\n",
    "ds = ds.drop_vars(\"x_bnds\")\n",
    "ds = ds.drop_vars(\"y_bnds\")\n",
    "\n",
    "# set the spatial dimensions\n",
    "ds.rio.set_spatial_dims(x_dim=\"x\", y_dim=\"y\", inplace=True)"
   ]
  },
  {
   "cell_type": "code",
   "execution_count": null,
   "metadata": {},
   "outputs": [],
   "source": [
    "# clip the data to the catchment shape, all_touched=True to get all pixels that are at least partially in the catchment\n",
    "ds_clipped = ds.rio.clip(catchment.geometry, all_touched=True)\n",
    "\n",
    "# load the data into memory, this yielded the fastest computation times\n",
    "ds_clipped = ds_clipped.load()"
   ]
  },
  {
   "cell_type": "markdown",
   "metadata": {},
   "source": [
    "Plot der zugeschnittenen Rasterdaten mit überlagerten Grenzen des Einzugsgebiet zur Kontrolle"
   ]
  },
  {
   "cell_type": "code",
   "execution_count": null,
   "metadata": {},
   "outputs": [],
   "source": [
    "data_1d = False\n",
    "\n",
    "# check dimensionality of clipped data, raster plot and calculating weighted statistics with exactaxtract can only be done if shape is >= (2, 2)\n",
    "if 1 in ds_clipped[variable].isel(time=0).shape:\n",
    "    data_1d = True\n",
    "\n",
    "# check dimensionality of clipped data, raster plot can only be done if shape is >= (2, 2)\n",
    "if data_1d:\n",
    "    print(\"Clipped data has dimensionality of 1, cannot create raster plot\")\n",
    "    warnings.append(\"Clipped data has dimensionality of 1, cannot create raster plot\")\n",
    "    \n",
    "else:\n",
    "    # plot ds_clipped together with gdf_polygon\n",
    "    fig_spatial, ax = plt.subplots(figsize=(16, 7))\n",
    "\n",
    "    # plot ds_clipped on top\n",
    "    ds_clipped[variable].isel(time=0).plot(alpha=1, ax=ax, cmap=\"viridis\")\n",
    "\n",
    "    # plot catchment first, big red border, no fill\n",
    "    catchment.plot(ax=ax, color=\"none\", edgecolor=\"black\", linewidth=3)\n",
    "\n",
    "    # add basemap but this needs an in internet connection and sometimes takes a while\n",
    "    try:\n",
    "        ctx.add_basemap(ax, crs=ds_clipped.rio.crs.to_string(), source=ctx.providers.OpenTopoMap)\n",
    "    except Exception as e:\n",
    "        print(f\"Basemap loading not succesfull: {e}\")\n",
    "        warnings.append(f\"Basemap loading not succesfull: {e}\")\n",
    "        \n",
    "    # Increase x and y limits\n",
    "    xmin, xmax = ax.get_xlim()\n",
    "    ymin, ymax = ax.get_ylim()\n",
    "    ax.set_xlim(xmin - 0.2*(xmax-xmin), xmax + 0.2*(xmax-xmin))\n",
    "    ax.set_ylim(ymin - 0.2*(ymax-ymin), ymax + 0.2*(ymax-ymin))\n",
    "\n",
    "    # Add a title\n",
    "    ax.set_title(f\"{HYRAS_VARIABLE} clipped to catchment {ID}\")\n",
    "\n",
    "    plt.show()"
   ]
  },
  {
   "cell_type": "code",
   "execution_count": null,
   "metadata": {},
   "outputs": [],
   "source": [
    "# Remove the grid_mapping key from the variable's attributes (problems with xarray)\n",
    "ds_clipped[variable].attrs.pop(\"grid_mapping\", None)\n",
    "\n",
    "# drop variable crs_HYRAS (problems with xarray)\n",
    "ds_clipped = ds_clipped.drop_vars(\"crs_HYRAS\")"
   ]
  },
  {
   "cell_type": "markdown",
   "metadata": {},
   "source": [
    "Berechnung der Kennzahlen"
   ]
  },
  {
   "cell_type": "code",
   "execution_count": null,
   "metadata": {},
   "outputs": [],
   "source": [
    "mean = ds_clipped[variable].mean(dim=[\"x\", \"y\"])\n",
    "std = ds_clipped[variable].std(dim=[\"x\", \"y\"])\n",
    "min_val = ds_clipped[variable].min(dim=[\"x\", \"y\"])\n",
    "max_val = ds_clipped[variable].max(dim=[\"x\", \"y\"])\n",
    "\n",
    "# Compute the results in parallel\n",
    "mean, std, min_val, max_val = dask.compute(mean, std, min_val, max_val)\n",
    "\n",
    "# Convert the results to pandas DataFrames\n",
    "df_mean = mean.to_dataframe()\n",
    "df_mean.columns = [f\"{variable}_mean\"]\n",
    "\n",
    "df_std = std.to_dataframe()\n",
    "df_std.columns = [f\"{variable}_stdev\"]\n",
    "\n",
    "df_min = min_val.to_dataframe()\n",
    "df_min.columns = [f\"{variable}_min\"]\n",
    "\n",
    "df_max = max_val.to_dataframe()\n",
    "df_max.columns = [f\"{variable}_max\"]\n",
    "\n",
    "# Concatenate all dataframes\n",
    "df_timeseries = pd.concat([df_mean, df_std, df_min, df_max], axis=1)\n",
    "\n",
    "df_timeseries\n"
   ]
  },
  {
   "cell_type": "markdown",
   "metadata": {},
   "source": [
    "Plot der Kennzahlen über den gesamten Zeitraum"
   ]
  },
  {
   "cell_type": "code",
   "execution_count": null,
   "metadata": {},
   "outputs": [],
   "source": [
    "fig_timeseries = plt.figure(figsize=(10, 7))\n",
    "\n",
    "# Define the height ratios for the subplots\n",
    "gs = gridspec.GridSpec(2, 1, height_ratios=[2, 1]) \n",
    "\n",
    "# Plot all columns except 'hurs_std' in the first subplot\n",
    "ax0 = plt.subplot(gs[0])\n",
    "lines1 = df_timeseries.drop(columns=[f\"{variable}_stdev\"]).groupby(pd.Grouper(freq='Y')).mean().plot(ax=ax0, lw=2, legend=False)\n",
    "ax0.set_title(f\"{HYRAS_VARIABLE} yearly mean timeseries for catchment {ID}\\n\")\n",
    "ax0.xaxis.set_visible(False)  # Remove x-axis\n",
    "\n",
    "# Plot 'hurs_std' in the second subplot\n",
    "ax1 = plt.subplot(gs[1])\n",
    "lines2 = df_timeseries[f\"{variable}_stdev\"].groupby(pd.Grouper(freq='Y')).mean().plot(ax=ax1, lw=2, color='orange', legend=False)\n",
    "\n",
    "# Create a shared legend\n",
    "lines = lines1.get_lines() + lines2.get_lines()\n",
    "labels = [line.get_label() for line in lines]\n",
    "\n",
    "# Move the legend outside of the plot to the bottom\n",
    "fig_timeseries.legend(lines, labels, loc='upper center', bbox_to_anchor=(0.5, 0), ncol=len(lines))\n",
    "\n",
    "plt.tight_layout()\n",
    "plt.show()"
   ]
  },
  {
   "cell_type": "markdown",
   "metadata": {},
   "source": [
    "Abspeichern der Daten"
   ]
  },
  {
   "cell_type": "code",
   "execution_count": null,
   "metadata": {},
   "outputs": [],
   "source": [
    "# Make output directory if it does not exist\n",
    "os.makedirs(f\"{RESULT_PATH}/{ID}/plots\", exist_ok=True)\n",
    "os.makedirs(f\"{RESULT_PATH}/{ID}/data\", exist_ok=True)\n",
    "\n",
    "# Save figures\n",
    "if not data_1d:\n",
    "    fig_spatial.savefig(f\"{RESULT_PATH}/{ID}/plots/{HYRAS_VARIABLE}_catchment_clipped.png\", dpi=300, bbox_inches=\"tight\")\n",
    "fig_timeseries.savefig(f\"{RESULT_PATH}/{ID}/plots/{HYRAS_VARIABLE}_timeseries.png\", dpi=300, bbox_inches=\"tight\")\n",
    "\n",
    "# Save timeseries data\n",
    "df_timeseries.to_csv(f\"{RESULT_PATH}/{ID}/data/{ID}_{HYRAS_VARIABLE}.csv\")"
   ]
  },
  {
   "cell_type": "code",
   "execution_count": null,
   "metadata": {},
   "outputs": [],
   "source": [
    "# close xarray datasets\n",
    "ds.close()\n",
    "ds_clipped.close()"
   ]
  },
  {
   "cell_type": "markdown",
   "metadata": {},
   "source": [
    "An diesem Punkt liegen die Zeitreihendaten als df_timeseries vor und wurden als csv gespeichert."
   ]
  }
 ],
 "metadata": {
  "kernelspec": {
   "display_name": "venv",
   "language": "python",
   "name": "python3"
  },
  "language_info": {
   "codemirror_mode": {
    "name": "ipython",
    "version": 3
   },
   "file_extension": ".py",
   "mimetype": "text/x-python",
   "name": "python",
   "nbconvert_exporter": "python",
   "pygments_lexer": "ipython3",
   "version": "3.12.9"
  }
 },
 "nbformat": 4,
 "nbformat_minor": 2
}
